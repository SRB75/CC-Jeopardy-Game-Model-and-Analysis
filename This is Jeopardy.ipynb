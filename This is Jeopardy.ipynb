{
 "cells": [
  {
   "cell_type": "markdown",
   "metadata": {},
   "source": [
    "# This is Jeopardy!"
   ]
  },
  {
   "cell_type": "markdown",
   "metadata": {},
   "source": [
    "#### Overview"
   ]
  },
  {
   "cell_type": "markdown",
   "metadata": {},
   "source": [
    "This project is slightly different than others you have encountered thus far. Instead of a step-by-step tutorial, this project contains a series of open-ended requirements which describe the project you'll be building. There are many possible ways to correctly fulfill all of these requirements, and you should expect to use the internet, Codecademy, and/or other resources when you encounter a problem that you cannot easily solve."
   ]
  },
  {
   "cell_type": "markdown",
   "metadata": {},
   "source": [
    "#### Project Goals"
   ]
  },
  {
   "cell_type": "markdown",
   "metadata": {},
   "source": [
    "You will work to write several functions that investigate a dataset of _Jeopardy!_ questions and answers. Filter the dataset for topics that you're interested in, compute the average difficulty of those questions, and train to become the next Jeopardy champion!"
   ]
  },
  {
   "cell_type": "markdown",
   "metadata": {},
   "source": [
    "## Prerequisites"
   ]
  },
  {
   "cell_type": "markdown",
   "metadata": {},
   "source": [
    "In order to complete this project, you should have completed the Pandas lessons in the <a href=\"https://www.codecademy.com/learn/paths/analyze-data-with-python\">Analyze Data with Python Skill Path</a>. You can also find those lessons in the <a href=\"https://www.codecademy.com/learn/data-processing-pandas\">Data Analysis with Pandas course</a> or the <a href=\"https://www.codecademy.com/learn/paths/data-science/\">Data Scientist Career Path</a>.\n",
    "\n",
    "Finally, the <a href=\"https://www.codecademy.com/learn/practical-data-cleaning\">Practical Data Cleaning</a> course may also be helpful."
   ]
  },
  {
   "cell_type": "markdown",
   "metadata": {},
   "source": [
    "## Project Requirements"
   ]
  },
  {
   "cell_type": "markdown",
   "metadata": {},
   "source": [
    "**1.** We've provided a csv file containing data about the game show _Jeopardy!_ in a file named `jeopardy.csv`. Load the data into a DataFrame and investigate its contents. Try to print out specific columns.\n",
    "\n",
    "   Note that in order to make this project as \"real-world\" as possible, we haven't modified the data at all - we're giving it to you exactly how we found it. As a result, this data isn't as \"clean\" as the datasets you normally find on Codecademy. More specifically, there's something odd about the column names. After you figure out the problem with the column names, you may want to rename them to make your life easier for the rest of the project.\n",
    "   \n",
    "   In order to display the full contents of a column, we've added this line of code for you:\n",
    "   \n",
    "   ```py\n",
    "   pd.set_option('display.max_colwidth', None)\n",
    "   ```"
   ]
  },
  {
   "cell_type": "code",
   "execution_count": 1,
   "metadata": {},
   "outputs": [
    {
     "name": "stdout",
     "output_type": "stream",
     "text": [
      "   Show Number    Air Date      Round                         Category  Value  \\\n",
      "0         4680  2004-12-31  Jeopardy!                          HISTORY   $200   \n",
      "1         4680  2004-12-31  Jeopardy!  ESPN's TOP 10 ALL-TIME ATHLETES   $200   \n",
      "2         4680  2004-12-31  Jeopardy!      EVERYBODY TALKS ABOUT IT...   $200   \n",
      "3         4680  2004-12-31  Jeopardy!                 THE COMPANY LINE   $200   \n",
      "4         4680  2004-12-31  Jeopardy!              EPITAPHS & TRIBUTES   $200   \n",
      "5         4680  2004-12-31  Jeopardy!                   3-LETTER WORDS   $200   \n",
      "6         4680  2004-12-31  Jeopardy!                          HISTORY   $400   \n",
      "7         4680  2004-12-31  Jeopardy!  ESPN's TOP 10 ALL-TIME ATHLETES   $400   \n",
      "8         4680  2004-12-31  Jeopardy!      EVERYBODY TALKS ABOUT IT...   $400   \n",
      "9         4680  2004-12-31  Jeopardy!                 THE COMPANY LINE   $400   \n",
      "\n",
      "                                                                                                        Question  \\\n",
      "0               For the last 8 years of his life, Galileo was under house arrest for espousing this man's theory   \n",
      "1    No. 2: 1912 Olympian; football star at Carlisle Indian School; 6 MLB seasons with the Reds, Giants & Braves   \n",
      "2                       The city of Yuma in this state has a record average of 4,055 hours of sunshine each year   \n",
      "3                           In 1963, live on \"The Art Linkletter Show\", this company served its billionth burger   \n",
      "4       Signer of the Dec. of Indep., framer of the Constitution of Mass., second President of the United States   \n",
      "5                                  In the title of an Aesop fable, this insect shared billing with a grasshopper   \n",
      "6                                   Built in 312 B.C. to link Rome & the South of Italy, it's still in use today   \n",
      "7                                         No. 8: 30 steals for the Birmingham Barons; 2,306 steals for the Bulls   \n",
      "8  In the winter of 1971-72, a record 1,122 inches of snow fell at Rainier Paradise Ranger Station in this state   \n",
      "9             This housewares store was named for the packaging its merchandise came in & was first displayed on   \n",
      "\n",
      "           Answer  \n",
      "0      Copernicus  \n",
      "1      Jim Thorpe  \n",
      "2         Arizona  \n",
      "3      McDonald's  \n",
      "4      John Adams  \n",
      "5         the ant  \n",
      "6  the Appian Way  \n",
      "7  Michael Jordan  \n",
      "8      Washington  \n",
      "9  Crate & Barrel  \n"
     ]
    }
   ],
   "source": [
    "# Setting parameters\n",
    "import pandas as pd\n",
    "pd.set_option('display.max_colwidth', None)\n",
    "\n",
    "# Import the dataset into a DataFrame\n",
    "jeopardy = pd.read_csv(\"jeopardy.csv\")\n",
    "\n",
    "# Preview the headers and data\n",
    "print(jeopardy.head(10))"
   ]
  },
  {
   "cell_type": "code",
   "execution_count": 2,
   "metadata": {},
   "outputs": [
    {
     "name": "stdout",
     "output_type": "stream",
     "text": [
      "   show_number    air_date      round                         category value  \\\n",
      "0         4680  2004-12-31  Jeopardy!                          HISTORY  $200   \n",
      "1         4680  2004-12-31  Jeopardy!  ESPN's TOP 10 ALL-TIME ATHLETES  $200   \n",
      "2         4680  2004-12-31  Jeopardy!      EVERYBODY TALKS ABOUT IT...  $200   \n",
      "3         4680  2004-12-31  Jeopardy!                 THE COMPANY LINE  $200   \n",
      "4         4680  2004-12-31  Jeopardy!              EPITAPHS & TRIBUTES  $200   \n",
      "5         4680  2004-12-31  Jeopardy!                   3-LETTER WORDS  $200   \n",
      "6         4680  2004-12-31  Jeopardy!                          HISTORY  $400   \n",
      "7         4680  2004-12-31  Jeopardy!  ESPN's TOP 10 ALL-TIME ATHLETES  $400   \n",
      "8         4680  2004-12-31  Jeopardy!      EVERYBODY TALKS ABOUT IT...  $400   \n",
      "9         4680  2004-12-31  Jeopardy!                 THE COMPANY LINE  $400   \n",
      "\n",
      "                                                                                                        question  \\\n",
      "0               For the last 8 years of his life, Galileo was under house arrest for espousing this man's theory   \n",
      "1    No. 2: 1912 Olympian; football star at Carlisle Indian School; 6 MLB seasons with the Reds, Giants & Braves   \n",
      "2                       The city of Yuma in this state has a record average of 4,055 hours of sunshine each year   \n",
      "3                           In 1963, live on \"The Art Linkletter Show\", this company served its billionth burger   \n",
      "4       Signer of the Dec. of Indep., framer of the Constitution of Mass., second President of the United States   \n",
      "5                                  In the title of an Aesop fable, this insect shared billing with a grasshopper   \n",
      "6                                   Built in 312 B.C. to link Rome & the South of Italy, it's still in use today   \n",
      "7                                         No. 8: 30 steals for the Birmingham Barons; 2,306 steals for the Bulls   \n",
      "8  In the winter of 1971-72, a record 1,122 inches of snow fell at Rainier Paradise Ranger Station in this state   \n",
      "9             This housewares store was named for the packaging its merchandise came in & was first displayed on   \n",
      "\n",
      "           answer  \n",
      "0      Copernicus  \n",
      "1      Jim Thorpe  \n",
      "2         Arizona  \n",
      "3      McDonald's  \n",
      "4      John Adams  \n",
      "5         the ant  \n",
      "6  the Appian Way  \n",
      "7  Michael Jordan  \n",
      "8      Washington  \n",
      "9  Crate & Barrel  \n"
     ]
    }
   ],
   "source": [
    "# After previewing, I can tell that the column names need to be standardized\n",
    "jeopardy.columns = [\"show_number\", \"air_date\", \"round\", \"category\", \"value\", \"question\", \"answer\"]\n",
    "\n",
    "# Lets' take a look at the DataFrame with its new column headings\n",
    "print(jeopardy.head(10))"
   ]
  },
  {
   "cell_type": "code",
   "execution_count": 45,
   "metadata": {},
   "outputs": [
    {
     "name": "stdout",
     "output_type": "stream",
     "text": [
      "The DataFrame has 216,930 rows.\n",
      "The DataFrame comprises questions from 3,640 shows.\n",
      "The oldest show is from 1984-09-10\n",
      "The most recent show is from 2012-01-27.\n",
      "object\n",
      "['$200' '$400' '$600' '$800' '$2,000' '$1000' '$1200' '$1600' '$2000'\n",
      " '$3,200' 'no value' '$5,000' '$100' '$300' '$500' '$1,000' '$1,500'\n",
      " '$1,200' '$4,800' '$1,800' '$1,100' '$2,200' '$3,400' '$3,000' '$4,000'\n",
      " '$1,600' '$6,800' '$1,900' '$3,100' '$700' '$1,400' '$2,800' '$8,000'\n",
      " '$6,000' '$2,400' '$12,000' '$3,800' '$2,500' '$6,200' '$10,000' '$7,000'\n",
      " '$1,492' '$7,400' '$1,300' '$7,200' '$2,600' '$3,300' '$5,400' '$4,500'\n",
      " '$2,100' '$900' '$3,600' '$2,127' '$367' '$4,400' '$3,500' '$2,900'\n",
      " '$3,900' '$4,100' '$4,600' '$10,800' '$2,300' '$5,600' '$1,111' '$8,200'\n",
      " '$5,800' '$750' '$7,500' '$1,700' '$9,000' '$6,100' '$1,020' '$4,700'\n",
      " '$2,021' '$5,200' '$3,389' '$4,200' '$5' '$2,001' '$1,263' '$4,637'\n",
      " '$3,201' '$6,600' '$3,700' '$2,990' '$5,500' '$14,000' '$2,700' '$6,400'\n",
      " '$350' '$8,600' '$6,300' '$250' '$3,989' '$8,917' '$9,500' '$1,246'\n",
      " '$6,435' '$8,800' '$2,222' '$2,746' '$10,400' '$7,600' '$6,700' '$5,100'\n",
      " '$13,200' '$4,300' '$1,407' '$12,400' '$5,401' '$7,800' '$1,183' '$1,203'\n",
      " '$13,000' '$11,600' '$14,200' '$1,809' '$8,400' '$8,700' '$11,000'\n",
      " '$5,201' '$1,801' '$3,499' '$5,700' '$601' '$4,008' '$50' '$2,344'\n",
      " '$2,811' '$18,000' '$1,777' '$3,599' '$9,800' '$796' '$3,150' '$20'\n",
      " '$1,810' '$22' '$9,200' '$1,512' '$8,500' '$585' '$1,534' '$13,800'\n",
      " '$5,001' '$4,238' '$16,400' '$1,347' '$2547' '$11,200']\n",
      "['Jeopardy!' 'Double Jeopardy!' 'Final Jeopardy!' 'Tiebreaker']\n"
     ]
    }
   ],
   "source": [
    "# Let's look at the length of our columns and some other basic information\n",
    "row_count = len(jeopardy[\"show_number\"])\n",
    "print(\"The DataFrame has {:,} rows.\".format(row_count))\n",
    "\n",
    "show_count = jeopardy.show_number.nunique()\n",
    "print(\"The DataFrame comprises questions from {:,} shows.\".format(show_count))\n",
    "\n",
    "oldest_show = jeopardy.air_date.min()\n",
    "print(\"The oldest show is from {}\".format(oldest_show))\n",
    "\n",
    "newest_show = jeopardy.air_date.max()\n",
    "print(\"The most recent show is from {}.\".format(newest_show))\n",
    "\n",
    "value_type = jeopardy.value.dtype\n",
    "print(value_type)\n",
    "values_observed = jeopardy.value.unique()\n",
    "print(values_observed)\n",
    "\n",
    "rounds_observed = jeopardy[\"round\"].unique()\n",
    "print(rounds_observed)"
   ]
  },
  {
   "cell_type": "markdown",
   "metadata": {},
   "source": [
    "**2.** Write a function that filters the dataset for questions that contains all of the words in a list of words. For example, when the list `[\"King\", \"England\"]` was passed to our function, the function returned a DataFrame of 49 rows. Every row had the strings `\"King\"` and `\"England\"` somewhere in its `\" Question\"`.\n",
    "\n",
    "   Test your function by printing out the column containing the question of each row of the dataset."
   ]
  },
  {
   "cell_type": "code",
   "execution_count": 4,
   "metadata": {},
   "outputs": [
    {
     "name": "stdout",
     "output_type": "stream",
     "text": [
      "      show_number    air_date             round  \\\n",
      "224          3673  2000-07-19  Double Jeopardy!   \n",
      "1421         3362  1999-03-30  Double Jeopardy!   \n",
      "2107         5981  2010-09-20         Jeopardy!   \n",
      "2264         5630  2009-02-13         Jeopardy!   \n",
      "2410         3214  1998-07-16         Jeopardy!   \n",
      "2644         6125  2011-04-08         Jeopardy!   \n",
      "3097         4487  2004-02-24  Double Jeopardy!   \n",
      "3454         5347  2007-12-04  Double Jeopardy!   \n",
      "4062         2818  1996-11-27  Double Jeopardy!   \n",
      "5869         4506  2004-03-22         Jeopardy!   \n",
      "\n",
      "                                     category  value  \\\n",
      "224                   INTERNATIONAL SPORTSMEN   $800   \n",
      "1421                           HEADS OF STATE  $1000   \n",
      "2107                            COUNTRY MUSIC   $800   \n",
      "2264                           CABLE CHANNELS   $200   \n",
      "2410                   PRE-COLUMBIAN CULTURES   $500   \n",
      "2644                      YES, THAT'S \"WHITE\"   $800   \n",
      "3097                                   ROCK-Y  $2000   \n",
      "3454                           HISTORIC NAMES  $2000   \n",
      "4062                                   POETRY   $800   \n",
      "5869  ROLLING STONE'S 100 GREATEST GUITARISTS   $200   \n",
      "\n",
      "                                                                                                                                                                                                                                                                                                                   question  \\\n",
      "224                                                                                                                                                                                                                The Times of London estimates this chess player is taking home $20 mil. a year; that's some check, mate!   \n",
      "1421                                                                                                                                                                                                                                             In 1964 Luxembourg's grand duchess abdicated in favor of this man, her son   \n",
      "2107                                                                                                                                                                                                                         This sound, like that made by plucking a guitar, is the title of a 2009 album by George Strait   \n",
      "2264                                                                                                                                                                                                                            The Dire Straits song \"Money For Nothing\" says, \"You play the guitar on\" this cable channel   \n",
      "2410                                                                                                                                                                                                                                 Warriors of this Yucatan civilization battle in the computer-enhanced mural seen here:   \n",
      "2644                                                                                                                                                                                                                                                 A chess piece, or a company involved in a friendly takeover of another   \n",
      "3097                                                                                                                                                                                                                             His innovations include multitrack recording, overdubbing & the solid-body electric guitar   \n",
      "3454  (<a href=\"http://www.j-archive.com/media/2007-12-04_DJ_20.jpg\" target=\"_blank\">Sarah of the Clue Crew stands outside the Imperial Palace in Vienna, Austria.</a>)  Today, the Imperial Palace is home to Austria's head of state, the president; in Mozart's time, it was home to the head of state, this archduchess   \n",
      "4062                                                                                                                                                                                                                                      His series \"Bells and Pomegranates\" included \"Pippa Passes\" and \"My Last Duchess\"   \n",
      "5869                                                                                                                                                                                                                                                                        Who was No. 50?  This Who guitarist, that's who   \n",
      "\n",
      "               answer  \n",
      "224    Garry Kasparov  \n",
      "1421  Grand Duke Jean  \n",
      "2107            twang  \n",
      "2264              MTV  \n",
      "2410           Mayans  \n",
      "2644   a white knight  \n",
      "3097         Les Paul  \n",
      "3454    Maria Theresa  \n",
      "4062  Robert Browning  \n",
      "5869   Pete Townshend  \n"
     ]
    }
   ],
   "source": [
    "# Let's start by making a list of possible question topics\n",
    "question_words = [\"guitar\", \"chess\", \"Yucatan\"]\n",
    "\n",
    "# Now let's try to build a function that finds questions with any of these terms\n",
    "# First, we will combine the question_words with \"or\" to form a regular expression to use in our search\n",
    "schema = \"|\".join(question_words)\n",
    "\n",
    "# Next, let's use the schema to search the questions column\n",
    "filtered_set = jeopardy[jeopardy.question.str.contains(schema)]\n",
    "\n",
    "# Let's check and see if we got anything\n",
    "print(filtered_set.head(10))"
   ]
  },
  {
   "cell_type": "code",
   "execution_count": 5,
   "metadata": {},
   "outputs": [
    {
     "name": "stdout",
     "output_type": "stream",
     "text": [
      "The filtered DataFrame contains 453 questions.\n"
     ]
    }
   ],
   "source": [
    "# Let's see how long our set is\n",
    "filtered_length = len(filtered_set[\"show_number\"])\n",
    "print(\"The filtered DataFrame contains {} questions.\".format(filtered_length))"
   ]
  },
  {
   "cell_type": "code",
   "execution_count": 6,
   "metadata": {},
   "outputs": [
    {
     "name": "stdout",
     "output_type": "stream",
     "text": [
      "224                                                                                                                                                                                                                                                                  The Times of London estimates this chess player is taking home $20 mil. a year; that's some check, mate!\n",
      "1421                                                                                                                                                                                                                                                                                               In 1964 Luxembourg's grand duchess abdicated in favor of this man, her son\n",
      "2107                                                                                                                                                                                                                                                                           This sound, like that made by plucking a guitar, is the title of a 2009 album by George Strait\n",
      "2264                                                                                                                                                                                                                                                                              The Dire Straits song \"Money For Nothing\" says, \"You play the guitar on\" this cable channel\n",
      "2410                                                                                                                                                                                                                                                                                   Warriors of this Yucatan civilization battle in the computer-enhanced mural seen here:\n",
      "2644                                                                                                                                                                                                                                                                                                   A chess piece, or a company involved in a friendly takeover of another\n",
      "3097                                                                                                                                                                                                                                                                               His innovations include multitrack recording, overdubbing & the solid-body electric guitar\n",
      "3454                                                    (<a href=\"http://www.j-archive.com/media/2007-12-04_DJ_20.jpg\" target=\"_blank\">Sarah of the Clue Crew stands outside the Imperial Palace in Vienna, Austria.</a>)  Today, the Imperial Palace is home to Austria's head of state, the president; in Mozart's time, it was home to the head of state, this archduchess\n",
      "4062                                                                                                                                                                                                                                                                                        His series \"Bells and Pomegranates\" included \"Pippa Passes\" and \"My Last Duchess\"\n",
      "5869                                                                                                                                                                                                                                                                                                                          Who was No. 50?  This Who guitarist, that's who\n",
      "5875                                                                                                                                                                                                                                                            Not surprisingly this legendary guitarist who colored the '60s with songs like \"Purple Haze\" came in at No. 1\n",
      "5881                                                                                                                                                                                                                                                          It's said of No. 3, \"His string-bending & vibrato made his famous guitar, Lucille, weep like a real-life woman\"\n",
      "5887                                                                                                                                                                                                                                                                                                                 His \"Smooth\" guitar strains earned him a place at No. 15\n",
      "7394                                                                                                                                                                                                                                                                                    A 6-string guitar has 2 strings tuned to this note, each corresponding to a piano key\n",
      "7514                                                                                                                                                                                                                                                                                        Their 1999 CD \"Californication\" reunited guitarist John Frusciante with the group\n",
      "8602                                                                                                                                                                                                                                                                     In 2004 the most valuable guitar, this rocker's Stratocaster \"Blackie\", sold for $959,500 at auction\n",
      "8942                                                                                                                                                                                                                                                                This guitar family member's circular body is covered in front with tightly stretched plastic or parchment\n",
      "9364                                                                                                                                                                                                                                                           This Yucatan city whose ruins are a UNESCO world heritage site gave way to Mayapan as a Mayan political center\n",
      "9701                                                                                                                                                                                                                                                                                                   He's the guitarist who had a Top 40 hit with \"Rock & Roll Hoochie Koo\"\n",
      "10280                                                                                                                                                                                                                                                                       \"King of the Hill\"'s guitar-playing comedian Celery Head is a spoof of this red-haired prop comic\n",
      "11611                                                                                                                                                                                                                                                                                    He's the rock 'n' roll guitar legend who infected us with 1977's \"Cat Scratch Fever\"\n",
      "12929                                                                                                                                                                                                                                                                     Anna Anderson's preserved tissue was DNA tested in 1994 to prove that she wasn't this Grand Duchess\n",
      "13191                                                                                                                                                                                                                                                      A 7-year-old chess prodigy is at the center of this 1993 film that mentions an American chess prodigy in its title\n",
      "13233                                                                                                                                                                                                                                                                      This \"Something to Talk About\" singer & guitarist is on the board of the Rhythm & Blues Foundation\n",
      "13273                                                                                                                                                                                                                                                                                     Marie Antoinette was among the 16 children of this Holy Roman empress & archduchess\n",
      "13423                                                                                                                                                                                                                                                                                        A disillusioned knight plays chess with death in this Ingmar Bergman masterpiece\n",
      "13594                                                                                                                                                                                                                                                                           This great Spanish classical guitarist gave his first performance in Granada at the age of 16\n",
      "13808                                                                                                                                                                                                                                                                 With $50,000 of his $30 or so billion, Paul Allen bought a guitar this \"Purple Haze\" star had shattered\n",
      "14059                                                                                                                                                                                                                                                                      A newly needed specific name is a retronym, like this type of \"guitar\" after electric ones came in\n",
      "14665                                                                                                                                                                                                                                                              This Spaniard opened his house in 1915 & counted the Duchess of Windsor & Princess Grace among his clients\n",
      "14801                                                                                                                                                                                                                                                                       In this Yucatan culture, caves were the portal between our world & Xibalba, the world of the gods\n",
      "15780                                                                                                                                                                                                                                                                            His \"Pygmalion\" includes the line \"I shall make a duchess of this draggletailed guttersnipe\"\n",
      "15916                                                                                                                                                                                                                                                               The highlight of his years as a prince surely had to be marrying a beautiful Austrian archduchess in 1770\n",
      "17052                                                                                                                                                                                                                                                                                The lesser members of an organization, or the vertical & horizontal rows on a chessboard\n",
      "17329                                                                                                                                                                                                                                                  As this guitarist died in 1970 with no will (as you do at 27) his $300 mil. estate ended up with an adopted stepsister\n",
      "19160                                                                                                                                                                                                                                                                                            Keep this firmly behind the guitar neck for maximum stretch with your digits\n",
      "19166                                                                                                                                                                                                                                                                                                 Golpe is a fingernail-tapping stroke found in this Spanish guitar style\n",
      "19172                                                                                                                                                                                                                                                                             Country legend Junior Brown, heard here, plays a hybrid of the electric guitar & this type:\n",
      "19625         (<a href=\"http://www.j-archive.com/media/2004-07-07_J_11.jpg\" target=\"_blank\">Sarah of the Clue Crew sits down to a meal in the Yucatan Peninsula, Mexico.</a>)  Here in the Yucatan, <a href=\"http://www.j-archive.com/media/2004-07-07_J_11a.jpg\" target=\"_blank\">this</a> tasty bundle is wrapped & cooked in banana leaves rather than the usual corn husks\n",
      "19637    (<a href=\"http://www.j-archive.com/media/2004-07-07_J_13.jpg\" target=\"_blank\">Sarah of the Clue Crew follows her meal with a chaser in the Yucatan Peninsula, Mexico.</a>)  By Mexican law, <a href=\"http://www.j-archive.com/media/2004-07-07_J_13a.jpg\" target=\"_blank\">this</a> potent potable must be made with at least 51% agave; the rest is often sugar cane\n",
      "Name: question, dtype: object\n"
     ]
    }
   ],
   "source": [
    "# Let's take a look at just 40 of the 453 questions\n",
    "print(filtered_set[\"question\"].head(40))\n"
   ]
  },
  {
   "cell_type": "markdown",
   "metadata": {},
   "source": [
    "3. Test your original function with a few different sets of words to try to find some ways your function breaks. Edit your function so it is more robust.\n",
    "\n",
    "   For example, think about capitalization. We probably want to find questions that contain the word `\"King\"` or `\"king\"`.\n",
    "   \n",
    "   You may also want to check to make sure you don't find rows that contain substrings of your given words. For example, our function found a question that didn't contain the word `\"king\"`, however it did contain the word `\"viking\"` &mdash; it found the `\"king\"` inside `\"viking\"`. Note that this also comes with some drawbacks &mdash; you would no longer find questions that contained words like `\"England's\"`."
   ]
  },
  {
   "cell_type": "code",
   "execution_count": 7,
   "metadata": {},
   "outputs": [
    {
     "name": "stdout",
     "output_type": "stream",
     "text": [
      "      show_number    air_date             round  \\\n",
      "224          3673  2000-07-19  Double Jeopardy!   \n",
      "2107         5981  2010-09-20         Jeopardy!   \n",
      "2264         5630  2009-02-13         Jeopardy!   \n",
      "2410         3214  1998-07-16         Jeopardy!   \n",
      "2644         6125  2011-04-08         Jeopardy!   \n",
      "3097         4487  2004-02-24  Double Jeopardy!   \n",
      "5869         4506  2004-03-22         Jeopardy!   \n",
      "5875         4506  2004-03-22         Jeopardy!   \n",
      "5881         4506  2004-03-22         Jeopardy!   \n",
      "5887         4506  2004-03-22         Jeopardy!   \n",
      "\n",
      "                                     category  value  \\\n",
      "224                   INTERNATIONAL SPORTSMEN   $800   \n",
      "2107                            COUNTRY MUSIC   $800   \n",
      "2264                           CABLE CHANNELS   $200   \n",
      "2410                   PRE-COLUMBIAN CULTURES   $500   \n",
      "2644                      YES, THAT'S \"WHITE\"   $800   \n",
      "3097                                   ROCK-Y  $2000   \n",
      "5869  ROLLING STONE'S 100 GREATEST GUITARISTS   $200   \n",
      "5875  ROLLING STONE'S 100 GREATEST GUITARISTS   $400   \n",
      "5881  ROLLING STONE'S 100 GREATEST GUITARISTS   $600   \n",
      "5887  ROLLING STONE'S 100 GREATEST GUITARISTS   $800   \n",
      "\n",
      "                                                                                                             question  \\\n",
      "224          The Times of London estimates this chess player is taking home $20 mil. a year; that's some check, mate!   \n",
      "2107                   This sound, like that made by plucking a guitar, is the title of a 2009 album by George Strait   \n",
      "2264                      The Dire Straits song \"Money For Nothing\" says, \"You play the guitar on\" this cable channel   \n",
      "2410                           Warriors of this Yucatan civilization battle in the computer-enhanced mural seen here:   \n",
      "2644                                           A chess piece, or a company involved in a friendly takeover of another   \n",
      "3097                       His innovations include multitrack recording, overdubbing & the solid-body electric guitar   \n",
      "5869                                                                  Who was No. 50?  This Who guitarist, that's who   \n",
      "5875    Not surprisingly this legendary guitarist who colored the '60s with songs like \"Purple Haze\" came in at No. 1   \n",
      "5881  It's said of No. 3, \"His string-bending & vibrato made his famous guitar, Lucille, weep like a real-life woman\"   \n",
      "5887                                                         His \"Smooth\" guitar strains earned him a place at No. 15   \n",
      "\n",
      "              answer  \n",
      "224   Garry Kasparov  \n",
      "2107           twang  \n",
      "2264             MTV  \n",
      "2410          Mayans  \n",
      "2644  a white knight  \n",
      "3097        Les Paul  \n",
      "5869  Pete Townshend  \n",
      "5875    Jimi Hendrix  \n",
      "5881       B.B. King  \n",
      "5887  Carlos Santana  \n"
     ]
    }
   ],
   "source": [
    "# We can observe that we are getting a lot of questions about royalty due to duchess getting through the filter\n",
    "# We will need to make sure that our schema sees only \"chess\" and not \"duchess\"\n",
    "# We can use \\b on both sides of the format location to specify that the word cannot include beginning or ending characters\n",
    "# However, if we do this, we will lose guitars and guitarist too.  So, let's just put \\b on the front.\n",
    "schema = \"|\".join(r'\\b{}'.format(word) for word in question_words)\n",
    "\n",
    "# We can redefine filtered_set to not care about letter case, and to treat the schema as a regular expression\n",
    "filtered_set = jeopardy[jeopardy['question'].str.contains(schema, case=False, regex=True)]\n",
    "\n",
    "# Let's test that everything still works\n",
    "print(filtered_set.head(10))"
   ]
  },
  {
   "cell_type": "code",
   "execution_count": 8,
   "metadata": {},
   "outputs": [
    {
     "name": "stdout",
     "output_type": "stream",
     "text": [
      "224                                                                                                                                                                                                                                                                  The Times of London estimates this chess player is taking home $20 mil. a year; that's some check, mate!\n",
      "2107                                                                                                                                                                                                                                                                           This sound, like that made by plucking a guitar, is the title of a 2009 album by George Strait\n",
      "2264                                                                                                                                                                                                                                                                              The Dire Straits song \"Money For Nothing\" says, \"You play the guitar on\" this cable channel\n",
      "2410                                                                                                                                                                                                                                                                                   Warriors of this Yucatan civilization battle in the computer-enhanced mural seen here:\n",
      "2644                                                                                                                                                                                                                                                                                                   A chess piece, or a company involved in a friendly takeover of another\n",
      "3097                                                                                                                                                                                                                                                                               His innovations include multitrack recording, overdubbing & the solid-body electric guitar\n",
      "5869                                                                                                                                                                                                                                                                                                                          Who was No. 50?  This Who guitarist, that's who\n",
      "5875                                                                                                                                                                                                                                                            Not surprisingly this legendary guitarist who colored the '60s with songs like \"Purple Haze\" came in at No. 1\n",
      "5881                                                                                                                                                                                                                                                          It's said of No. 3, \"His string-bending & vibrato made his famous guitar, Lucille, weep like a real-life woman\"\n",
      "5887                                                                                                                                                                                                                                                                                                                 His \"Smooth\" guitar strains earned him a place at No. 15\n",
      "7394                                                                                                                                                                                                                                                                                    A 6-string guitar has 2 strings tuned to this note, each corresponding to a piano key\n",
      "7514                                                                                                                                                                                                                                                                                        Their 1999 CD \"Californication\" reunited guitarist John Frusciante with the group\n",
      "8602                                                                                                                                                                                                                                                                     In 2004 the most valuable guitar, this rocker's Stratocaster \"Blackie\", sold for $959,500 at auction\n",
      "8942                                                                                                                                                                                                                                                                This guitar family member's circular body is covered in front with tightly stretched plastic or parchment\n",
      "9364                                                                                                                                                                                                                                                           This Yucatan city whose ruins are a UNESCO world heritage site gave way to Mayapan as a Mayan political center\n",
      "9701                                                                                                                                                                                                                                                                                                   He's the guitarist who had a Top 40 hit with \"Rock & Roll Hoochie Koo\"\n",
      "9774                                                                                                                                                                                                                                                                Nearly 10 million YouTubers saw Dave Carroll's clip called this \"friendly skies\" airline \"Breaks Guitars\"\n",
      "10280                                                                                                                                                                                                                                                                       \"King of the Hill\"'s guitar-playing comedian Celery Head is a spoof of this red-haired prop comic\n",
      "11611                                                                                                                                                                                                                                                                                    He's the rock 'n' roll guitar legend who infected us with 1977's \"Cat Scratch Fever\"\n",
      "13191                                                                                                                                                                                                                                                      A 7-year-old chess prodigy is at the center of this 1993 film that mentions an American chess prodigy in its title\n",
      "13233                                                                                                                                                                                                                                                                      This \"Something to Talk About\" singer & guitarist is on the board of the Rhythm & Blues Foundation\n",
      "13337                                                                                                                                                                                                                                                                                                                                                            CRUEL GUITAR\n",
      "13423                                                                                                                                                                                                                                                                                        A disillusioned knight plays chess with death in this Ingmar Bergman masterpiece\n",
      "13594                                                                                                                                                                                                                                                                           This great Spanish classical guitarist gave his first performance in Granada at the age of 16\n",
      "13808                                                                                                                                                                                                                                                                 With $50,000 of his $30 or so billion, Paul Allen bought a guitar this \"Purple Haze\" star had shattered\n",
      "14059                                                                                                                                                                                                                                                                      A newly needed specific name is a retronym, like this type of \"guitar\" after electric ones came in\n",
      "14801                                                                                                                                                                                                                                                                       In this Yucatan culture, caves were the portal between our world & Xibalba, the world of the gods\n",
      "16489                                                                                                                                                                                                                                                                            This \"Father of the Electric Guitar\" & one-time husband of Mary Ford stopped strumming at 94\n",
      "17052                                                                                                                                                                                                                                                                                The lesser members of an organization, or the vertical & horizontal rows on a chessboard\n",
      "17329                                                                                                                                                                                                                                                  As this guitarist died in 1970 with no will (as you do at 27) his $300 mil. estate ended up with an adopted stepsister\n",
      "19045                                                                                                                                                                                                                                                                       This Cubist's sheet metal & wire \"Guitar\" from 1912-13 was made to hang on a wall like a painting\n",
      "19160                                                                                                                                                                                                                                                                                            Keep this firmly behind the guitar neck for maximum stretch with your digits\n",
      "19166                                                                                                                                                                                                                                                                                                 Golpe is a fingernail-tapping stroke found in this Spanish guitar style\n",
      "19172                                                                                                                                                                                                                                                                             Country legend Junior Brown, heard here, plays a hybrid of the electric guitar & this type:\n",
      "19625         (<a href=\"http://www.j-archive.com/media/2004-07-07_J_11.jpg\" target=\"_blank\">Sarah of the Clue Crew sits down to a meal in the Yucatan Peninsula, Mexico.</a>)  Here in the Yucatan, <a href=\"http://www.j-archive.com/media/2004-07-07_J_11a.jpg\" target=\"_blank\">this</a> tasty bundle is wrapped & cooked in banana leaves rather than the usual corn husks\n",
      "19637    (<a href=\"http://www.j-archive.com/media/2004-07-07_J_13.jpg\" target=\"_blank\">Sarah of the Clue Crew follows her meal with a chaser in the Yucatan Peninsula, Mexico.</a>)  By Mexican law, <a href=\"http://www.j-archive.com/media/2004-07-07_J_13a.jpg\" target=\"_blank\">this</a> potent potable must be made with at least 51% agave; the rest is often sugar cane\n",
      "19649              (<a href=\"http://www.j-archive.com/media/2004-07-07_J_15.jpg\" target=\"_blank\">Sarah of the Clue Crew has seconds at Yucatan Peninsula, Mexico.</a>)  One of my favorite Mexican dishes is <a href=\"http://www.j-archive.com/media/2004-07-07_J_15.jpg\" target=\"_blank\">this</a> one--raw seafood marinated in lime juice, garnished with onions & tomatoes\n",
      "21633                                                                                                                                                                                                                                                                                                                                Playing squares on a standard chessboard\n",
      "21735                                                                                                                                                                                                                                                                                                     Albums by this guitarist include \"A Day in the Life\" & \"Movin' Wes\"\n",
      "23010                                                                                                                                                                                                                                                                                       Last name of Jimmie, who taught his younger brother Stevie Ray how to play guitar\n",
      "Name: question, dtype: object\n"
     ]
    }
   ],
   "source": [
    "# Looks good.  Now, let's take a look at the first 40 questions again and make sure there is no royalty.\n",
    "print(filtered_set[\"question\"].head(40))"
   ]
  },
  {
   "cell_type": "markdown",
   "metadata": {},
   "source": [
    "4. We may want to eventually compute aggregate statistics, like `.mean()` on the `\" Value\"` column. But right now, the values in that column are strings. Convert the`\" Value\"` column to floats. If you'd like to, you can create a new column with float values.\n",
    "\n",
    "   While most of the values in the `\" Value\"` column represent a dollar amount as a string, note that some do not &mdash; these values will need to be handled differently!\n",
    "\n",
    "   Now that you can filter the dataset of question, use your new column that contains the float values of each question to find the \"difficulty\" of certain topics. For example, what is the average value of questions that contain the word `\"King\"`?\n",
    "   \n",
    "   Make sure to use the dataset that contains the float values as the dataset you use in your filtering function."
   ]
  },
  {
   "cell_type": "code",
   "execution_count": 9,
   "metadata": {},
   "outputs": [
    {
     "ename": "ValueError",
     "evalue": "could not convert string to float: '$200'",
     "output_type": "error",
     "traceback": [
      "\u001b[1;31m---------------------------------------------------------------------------\u001b[0m",
      "\u001b[1;31mValueError\u001b[0m                                Traceback (most recent call last)",
      "Cell \u001b[1;32mIn[9], line 7\u001b[0m\n\u001b[0;32m      4\u001b[0m replacement_dict \u001b[38;5;241m=\u001b[39m {\u001b[38;5;124m\"\u001b[39m\u001b[38;5;124m$\u001b[39m\u001b[38;5;124m\"\u001b[39m : \u001b[38;5;124m\"\u001b[39m\u001b[38;5;124m\"\u001b[39m, \u001b[38;5;124m\"\u001b[39m\u001b[38;5;124m,\u001b[39m\u001b[38;5;124m\"\u001b[39m : \u001b[38;5;124m\"\u001b[39m\u001b[38;5;124m\"\u001b[39m, \u001b[38;5;124m\"\u001b[39m\u001b[38;5;124mno value\u001b[39m\u001b[38;5;124m\"\u001b[39m : \u001b[38;5;241m0\u001b[39m}\n\u001b[0;32m      6\u001b[0m \u001b[38;5;66;03m# We will create a new column in jeopardy that applies our replacement dictionary and converts the values to floats\u001b[39;00m\n\u001b[1;32m----> 7\u001b[0m jeopardy[\u001b[38;5;124m\"\u001b[39m\u001b[38;5;124mvalue_float\u001b[39m\u001b[38;5;124m\"\u001b[39m] \u001b[38;5;241m=\u001b[39m jeopardy[\u001b[38;5;124m\"\u001b[39m\u001b[38;5;124mvalue\u001b[39m\u001b[38;5;124m\"\u001b[39m]\u001b[38;5;241m.\u001b[39mreplace(replacement_dict, regex\u001b[38;5;241m=\u001b[39m\u001b[38;5;28;01mTrue\u001b[39;00m)\u001b[38;5;241m.\u001b[39mastype(\u001b[38;5;28mfloat\u001b[39m)\n\u001b[0;32m      9\u001b[0m \u001b[38;5;66;03m# Verify it worked\u001b[39;00m\n\u001b[0;32m     10\u001b[0m \u001b[38;5;28mprint\u001b[39m(jeopardy\u001b[38;5;241m.\u001b[39mhead(\u001b[38;5;241m10\u001b[39m))\n",
      "File \u001b[1;32m~\\anaconda3\\Lib\\site-packages\\pandas\\core\\generic.py:6534\u001b[0m, in \u001b[0;36mNDFrame.astype\u001b[1;34m(self, dtype, copy, errors)\u001b[0m\n\u001b[0;32m   6530\u001b[0m     results \u001b[38;5;241m=\u001b[39m [ser\u001b[38;5;241m.\u001b[39mastype(dtype, copy\u001b[38;5;241m=\u001b[39mcopy) \u001b[38;5;28;01mfor\u001b[39;00m _, ser \u001b[38;5;129;01min\u001b[39;00m \u001b[38;5;28mself\u001b[39m\u001b[38;5;241m.\u001b[39mitems()]\n\u001b[0;32m   6532\u001b[0m \u001b[38;5;28;01melse\u001b[39;00m:\n\u001b[0;32m   6533\u001b[0m     \u001b[38;5;66;03m# else, only a single dtype is given\u001b[39;00m\n\u001b[1;32m-> 6534\u001b[0m     new_data \u001b[38;5;241m=\u001b[39m \u001b[38;5;28mself\u001b[39m\u001b[38;5;241m.\u001b[39m_mgr\u001b[38;5;241m.\u001b[39mastype(dtype\u001b[38;5;241m=\u001b[39mdtype, copy\u001b[38;5;241m=\u001b[39mcopy, errors\u001b[38;5;241m=\u001b[39merrors)\n\u001b[0;32m   6535\u001b[0m     res \u001b[38;5;241m=\u001b[39m \u001b[38;5;28mself\u001b[39m\u001b[38;5;241m.\u001b[39m_constructor_from_mgr(new_data, axes\u001b[38;5;241m=\u001b[39mnew_data\u001b[38;5;241m.\u001b[39maxes)\n\u001b[0;32m   6536\u001b[0m     \u001b[38;5;28;01mreturn\u001b[39;00m res\u001b[38;5;241m.\u001b[39m__finalize__(\u001b[38;5;28mself\u001b[39m, method\u001b[38;5;241m=\u001b[39m\u001b[38;5;124m\"\u001b[39m\u001b[38;5;124mastype\u001b[39m\u001b[38;5;124m\"\u001b[39m)\n",
      "File \u001b[1;32m~\\anaconda3\\Lib\\site-packages\\pandas\\core\\internals\\managers.py:414\u001b[0m, in \u001b[0;36mBaseBlockManager.astype\u001b[1;34m(self, dtype, copy, errors)\u001b[0m\n\u001b[0;32m    411\u001b[0m \u001b[38;5;28;01melif\u001b[39;00m using_copy_on_write():\n\u001b[0;32m    412\u001b[0m     copy \u001b[38;5;241m=\u001b[39m \u001b[38;5;28;01mFalse\u001b[39;00m\n\u001b[1;32m--> 414\u001b[0m \u001b[38;5;28;01mreturn\u001b[39;00m \u001b[38;5;28mself\u001b[39m\u001b[38;5;241m.\u001b[39mapply(\n\u001b[0;32m    415\u001b[0m     \u001b[38;5;124m\"\u001b[39m\u001b[38;5;124mastype\u001b[39m\u001b[38;5;124m\"\u001b[39m,\n\u001b[0;32m    416\u001b[0m     dtype\u001b[38;5;241m=\u001b[39mdtype,\n\u001b[0;32m    417\u001b[0m     copy\u001b[38;5;241m=\u001b[39mcopy,\n\u001b[0;32m    418\u001b[0m     errors\u001b[38;5;241m=\u001b[39merrors,\n\u001b[0;32m    419\u001b[0m     using_cow\u001b[38;5;241m=\u001b[39musing_copy_on_write(),\n\u001b[0;32m    420\u001b[0m )\n",
      "File \u001b[1;32m~\\anaconda3\\Lib\\site-packages\\pandas\\core\\internals\\managers.py:354\u001b[0m, in \u001b[0;36mBaseBlockManager.apply\u001b[1;34m(self, f, align_keys, **kwargs)\u001b[0m\n\u001b[0;32m    352\u001b[0m         applied \u001b[38;5;241m=\u001b[39m b\u001b[38;5;241m.\u001b[39mapply(f, \u001b[38;5;241m*\u001b[39m\u001b[38;5;241m*\u001b[39mkwargs)\n\u001b[0;32m    353\u001b[0m     \u001b[38;5;28;01melse\u001b[39;00m:\n\u001b[1;32m--> 354\u001b[0m         applied \u001b[38;5;241m=\u001b[39m \u001b[38;5;28mgetattr\u001b[39m(b, f)(\u001b[38;5;241m*\u001b[39m\u001b[38;5;241m*\u001b[39mkwargs)\n\u001b[0;32m    355\u001b[0m     result_blocks \u001b[38;5;241m=\u001b[39m extend_blocks(applied, result_blocks)\n\u001b[0;32m    357\u001b[0m out \u001b[38;5;241m=\u001b[39m \u001b[38;5;28mtype\u001b[39m(\u001b[38;5;28mself\u001b[39m)\u001b[38;5;241m.\u001b[39mfrom_blocks(result_blocks, \u001b[38;5;28mself\u001b[39m\u001b[38;5;241m.\u001b[39maxes)\n",
      "File \u001b[1;32m~\\anaconda3\\Lib\\site-packages\\pandas\\core\\internals\\blocks.py:616\u001b[0m, in \u001b[0;36mBlock.astype\u001b[1;34m(self, dtype, copy, errors, using_cow)\u001b[0m\n\u001b[0;32m    596\u001b[0m \u001b[38;5;250m\u001b[39m\u001b[38;5;124;03m\"\"\"\u001b[39;00m\n\u001b[0;32m    597\u001b[0m \u001b[38;5;124;03mCoerce to the new dtype.\u001b[39;00m\n\u001b[0;32m    598\u001b[0m \n\u001b[1;32m   (...)\u001b[0m\n\u001b[0;32m    612\u001b[0m \u001b[38;5;124;03mBlock\u001b[39;00m\n\u001b[0;32m    613\u001b[0m \u001b[38;5;124;03m\"\"\"\u001b[39;00m\n\u001b[0;32m    614\u001b[0m values \u001b[38;5;241m=\u001b[39m \u001b[38;5;28mself\u001b[39m\u001b[38;5;241m.\u001b[39mvalues\n\u001b[1;32m--> 616\u001b[0m new_values \u001b[38;5;241m=\u001b[39m astype_array_safe(values, dtype, copy\u001b[38;5;241m=\u001b[39mcopy, errors\u001b[38;5;241m=\u001b[39merrors)\n\u001b[0;32m    618\u001b[0m new_values \u001b[38;5;241m=\u001b[39m maybe_coerce_values(new_values)\n\u001b[0;32m    620\u001b[0m refs \u001b[38;5;241m=\u001b[39m \u001b[38;5;28;01mNone\u001b[39;00m\n",
      "File \u001b[1;32m~\\anaconda3\\Lib\\site-packages\\pandas\\core\\dtypes\\astype.py:238\u001b[0m, in \u001b[0;36mastype_array_safe\u001b[1;34m(values, dtype, copy, errors)\u001b[0m\n\u001b[0;32m    235\u001b[0m     dtype \u001b[38;5;241m=\u001b[39m dtype\u001b[38;5;241m.\u001b[39mnumpy_dtype\n\u001b[0;32m    237\u001b[0m \u001b[38;5;28;01mtry\u001b[39;00m:\n\u001b[1;32m--> 238\u001b[0m     new_values \u001b[38;5;241m=\u001b[39m astype_array(values, dtype, copy\u001b[38;5;241m=\u001b[39mcopy)\n\u001b[0;32m    239\u001b[0m \u001b[38;5;28;01mexcept\u001b[39;00m (\u001b[38;5;167;01mValueError\u001b[39;00m, \u001b[38;5;167;01mTypeError\u001b[39;00m):\n\u001b[0;32m    240\u001b[0m     \u001b[38;5;66;03m# e.g. _astype_nansafe can fail on object-dtype of strings\u001b[39;00m\n\u001b[0;32m    241\u001b[0m     \u001b[38;5;66;03m#  trying to convert to float\u001b[39;00m\n\u001b[0;32m    242\u001b[0m     \u001b[38;5;28;01mif\u001b[39;00m errors \u001b[38;5;241m==\u001b[39m \u001b[38;5;124m\"\u001b[39m\u001b[38;5;124mignore\u001b[39m\u001b[38;5;124m\"\u001b[39m:\n",
      "File \u001b[1;32m~\\anaconda3\\Lib\\site-packages\\pandas\\core\\dtypes\\astype.py:183\u001b[0m, in \u001b[0;36mastype_array\u001b[1;34m(values, dtype, copy)\u001b[0m\n\u001b[0;32m    180\u001b[0m     values \u001b[38;5;241m=\u001b[39m values\u001b[38;5;241m.\u001b[39mastype(dtype, copy\u001b[38;5;241m=\u001b[39mcopy)\n\u001b[0;32m    182\u001b[0m \u001b[38;5;28;01melse\u001b[39;00m:\n\u001b[1;32m--> 183\u001b[0m     values \u001b[38;5;241m=\u001b[39m _astype_nansafe(values, dtype, copy\u001b[38;5;241m=\u001b[39mcopy)\n\u001b[0;32m    185\u001b[0m \u001b[38;5;66;03m# in pandas we don't store numpy str dtypes, so convert to object\u001b[39;00m\n\u001b[0;32m    186\u001b[0m \u001b[38;5;28;01mif\u001b[39;00m \u001b[38;5;28misinstance\u001b[39m(dtype, np\u001b[38;5;241m.\u001b[39mdtype) \u001b[38;5;129;01mand\u001b[39;00m \u001b[38;5;28missubclass\u001b[39m(values\u001b[38;5;241m.\u001b[39mdtype\u001b[38;5;241m.\u001b[39mtype, \u001b[38;5;28mstr\u001b[39m):\n",
      "File \u001b[1;32m~\\anaconda3\\Lib\\site-packages\\pandas\\core\\dtypes\\astype.py:134\u001b[0m, in \u001b[0;36m_astype_nansafe\u001b[1;34m(arr, dtype, copy, skipna)\u001b[0m\n\u001b[0;32m    130\u001b[0m     \u001b[38;5;28;01mraise\u001b[39;00m \u001b[38;5;167;01mValueError\u001b[39;00m(msg)\n\u001b[0;32m    132\u001b[0m \u001b[38;5;28;01mif\u001b[39;00m copy \u001b[38;5;129;01mor\u001b[39;00m arr\u001b[38;5;241m.\u001b[39mdtype \u001b[38;5;241m==\u001b[39m \u001b[38;5;28mobject\u001b[39m \u001b[38;5;129;01mor\u001b[39;00m dtype \u001b[38;5;241m==\u001b[39m \u001b[38;5;28mobject\u001b[39m:\n\u001b[0;32m    133\u001b[0m     \u001b[38;5;66;03m# Explicit copy, or required since NumPy can't view from / to object.\u001b[39;00m\n\u001b[1;32m--> 134\u001b[0m     \u001b[38;5;28;01mreturn\u001b[39;00m arr\u001b[38;5;241m.\u001b[39mastype(dtype, copy\u001b[38;5;241m=\u001b[39m\u001b[38;5;28;01mTrue\u001b[39;00m)\n\u001b[0;32m    136\u001b[0m \u001b[38;5;28;01mreturn\u001b[39;00m arr\u001b[38;5;241m.\u001b[39mastype(dtype, copy\u001b[38;5;241m=\u001b[39mcopy)\n",
      "\u001b[1;31mValueError\u001b[0m: could not convert string to float: '$200'"
     ]
    }
   ],
   "source": [
    "# We need the value column to be integers or floats\n",
    "# First we need to eliminate the \"$\" and \",\" characters, as well as convert \"no value\" to 0\n",
    "# The easiest way is to make a dictionary of replacements\n",
    "replacement_dict = {\"$\" : \"\", \",\" : \"\", \"no value\" : 0}\n",
    "\n",
    "# We will create a new column in jeopardy that applies our replacement dictionary and converts the values to floats\n",
    "jeopardy[\"value_float\"] = jeopardy[\"value\"].replace(replacement_dict, regex=True).astype(float)\n",
    "\n",
    "# Verify it worked\n",
    "print(jeopardy.head(10))\n"
   ]
  },
  {
   "cell_type": "code",
   "execution_count": 10,
   "metadata": {},
   "outputs": [
    {
     "name": "stdout",
     "output_type": "stream",
     "text": [
      "['$200' '$400' '$600' '$800' '$2000' '$1000' '$1200' '$1600' '$3200' 0\n",
      " '$5000' '$100' '$300' '$500' '$1500' '$4800' '$1800' '$1100' '$2200'\n",
      " '$3400' '$3000' '$4000' '$6800' '$1900' '$3100' '$700' '$1400' '$2800'\n",
      " '$8000' '$6000' '$2400' '$12000' '$3800' '$2500' '$6200' '$10000' '$7000'\n",
      " '$1492' '$7400' '$1300' '$7200' '$2600' '$3300' '$5400' '$4500' '$2100'\n",
      " '$900' '$3600' '$2127' '$367' '$4400' '$3500' '$2900' '$3900' '$4100'\n",
      " '$4600' '$10800' '$2300' '$5600' '$1111' '$8200' '$5800' '$750' '$7500'\n",
      " '$1700' '$9000' '$6100' '$1020' '$4700' '$2021' '$5200' '$3389' '$4200'\n",
      " '$5' '$2001' '$1263' '$4637' '$3201' '$6600' '$3700' '$2990' '$5500'\n",
      " '$14000' '$2700' '$6400' '$350' '$8600' '$6300' '$250' '$3989' '$8917'\n",
      " '$9500' '$1246' '$6435' '$8800' '$2222' '$2746' '$10400' '$7600' '$6700'\n",
      " '$5100' '$13200' '$4300' '$1407' '$12400' '$5401' '$7800' '$1183' '$1203'\n",
      " '$13000' '$11600' '$14200' '$1809' '$8400' '$8700' '$11000' '$5201'\n",
      " '$1801' '$3499' '$5700' '$601' '$4008' '$50' '$2344' '$2811' '$18000'\n",
      " '$1777' '$3599' '$9800' '$796' '$3150' '$20' '$1810' '$22' '$9200'\n",
      " '$1512' '$8500' '$585' '$1534' '$13800' '$5001' '$4238' '$16400' '$1347'\n",
      " '$2547' '$11200']\n"
     ]
    }
   ],
   "source": [
    "# It didn't work.  Let's try to apply the replacements and then see unique values.  \n",
    "jeopardy[\"value_float\"] = jeopardy[\"value\"].replace(replacement_dict, regex=True)\n",
    "print(jeopardy.value_float.unique())"
   ]
  },
  {
   "cell_type": "code",
   "execution_count": 11,
   "metadata": {},
   "outputs": [
    {
     "name": "stdout",
     "output_type": "stream",
     "text": [
      "['200' '400' '600' '800' '2000' '1000' '1200' '1600' '3200' 0 '5000' '100'\n",
      " '300' '500' '1500' '4800' '1800' '1100' '2200' '3400' '3000' '4000'\n",
      " '6800' '1900' '3100' '700' '1400' '2800' '8000' '6000' '2400' '12000'\n",
      " '3800' '2500' '6200' '10000' '7000' '1492' '7400' '1300' '7200' '2600'\n",
      " '3300' '5400' '4500' '2100' '900' '3600' '2127' '367' '4400' '3500'\n",
      " '2900' '3900' '4100' '4600' '10800' '2300' '5600' '1111' '8200' '5800'\n",
      " '750' '7500' '1700' '9000' '6100' '1020' '4700' '2021' '5200' '3389'\n",
      " '4200' '5' '2001' '1263' '4637' '3201' '6600' '3700' '2990' '5500'\n",
      " '14000' '2700' '6400' '350' '8600' '6300' '250' '3989' '8917' '9500'\n",
      " '1246' '6435' '8800' '2222' '2746' '10400' '7600' '6700' '5100' '13200'\n",
      " '4300' '1407' '12400' '5401' '7800' '1183' '1203' '13000' '11600' '14200'\n",
      " '1809' '8400' '8700' '11000' '5201' '1801' '3499' '5700' '601' '4008'\n",
      " '50' '2344' '2811' '18000' '1777' '3599' '9800' '796' '3150' '20' '1810'\n",
      " '22' '9200' '1512' '8500' '585' '1534' '13800' '5001' '4238' '16400'\n",
      " '1347' '2547' '11200']\n"
     ]
    }
   ],
   "source": [
    "# Interesting.  The dictionary worked for \",\" and \"no value\", but didn't work for \"$\".\n",
    "# It seems that \"$\" is a special character in regular expressions, so I will need a break character in front of it\n",
    "# Let's try that again\n",
    "replacement_dict = {\"\\$\" : \"\", \",\" : \"\", \"no value\" : 0}\n",
    "jeopardy[\"value_float\"] = jeopardy[\"value\"].replace(replacement_dict, regex=True)\n",
    "print(jeopardy.value_float.unique())"
   ]
  },
  {
   "cell_type": "code",
   "execution_count": 12,
   "metadata": {},
   "outputs": [
    {
     "name": "stdout",
     "output_type": "stream",
     "text": [
      "   show_number    air_date      round                         category value  \\\n",
      "0         4680  2004-12-31  Jeopardy!                          HISTORY  $200   \n",
      "1         4680  2004-12-31  Jeopardy!  ESPN's TOP 10 ALL-TIME ATHLETES  $200   \n",
      "2         4680  2004-12-31  Jeopardy!      EVERYBODY TALKS ABOUT IT...  $200   \n",
      "3         4680  2004-12-31  Jeopardy!                 THE COMPANY LINE  $200   \n",
      "4         4680  2004-12-31  Jeopardy!              EPITAPHS & TRIBUTES  $200   \n",
      "5         4680  2004-12-31  Jeopardy!                   3-LETTER WORDS  $200   \n",
      "6         4680  2004-12-31  Jeopardy!                          HISTORY  $400   \n",
      "7         4680  2004-12-31  Jeopardy!  ESPN's TOP 10 ALL-TIME ATHLETES  $400   \n",
      "8         4680  2004-12-31  Jeopardy!      EVERYBODY TALKS ABOUT IT...  $400   \n",
      "9         4680  2004-12-31  Jeopardy!                 THE COMPANY LINE  $400   \n",
      "\n",
      "                                                                                                        question  \\\n",
      "0               For the last 8 years of his life, Galileo was under house arrest for espousing this man's theory   \n",
      "1    No. 2: 1912 Olympian; football star at Carlisle Indian School; 6 MLB seasons with the Reds, Giants & Braves   \n",
      "2                       The city of Yuma in this state has a record average of 4,055 hours of sunshine each year   \n",
      "3                           In 1963, live on \"The Art Linkletter Show\", this company served its billionth burger   \n",
      "4       Signer of the Dec. of Indep., framer of the Constitution of Mass., second President of the United States   \n",
      "5                                  In the title of an Aesop fable, this insect shared billing with a grasshopper   \n",
      "6                                   Built in 312 B.C. to link Rome & the South of Italy, it's still in use today   \n",
      "7                                         No. 8: 30 steals for the Birmingham Barons; 2,306 steals for the Bulls   \n",
      "8  In the winter of 1971-72, a record 1,122 inches of snow fell at Rainier Paradise Ranger Station in this state   \n",
      "9             This housewares store was named for the packaging its merchandise came in & was first displayed on   \n",
      "\n",
      "           answer  value_float  \n",
      "0      Copernicus        200.0  \n",
      "1      Jim Thorpe        200.0  \n",
      "2         Arizona        200.0  \n",
      "3      McDonald's        200.0  \n",
      "4      John Adams        200.0  \n",
      "5         the ant        200.0  \n",
      "6  the Appian Way        400.0  \n",
      "7  Michael Jordan        400.0  \n",
      "8      Washington        400.0  \n",
      "9  Crate & Barrel        400.0  \n"
     ]
    }
   ],
   "source": [
    "# Now that the characters have been removed, we can convert to float\n",
    "jeopardy[\"value_float\"] = jeopardy[\"value_float\"].astype(float)\n",
    "\n",
    "# Now make sure the rest of the DataFrame is unharmed by the change\n",
    "print(jeopardy.head(10))"
   ]
  },
  {
   "cell_type": "code",
   "execution_count": 13,
   "metadata": {},
   "outputs": [
    {
     "name": "stdout",
     "output_type": "stream",
     "text": [
      "      show_number    air_date             round  \\\n",
      "224          3673  2000-07-19  Double Jeopardy!   \n",
      "2107         5981  2010-09-20         Jeopardy!   \n",
      "2264         5630  2009-02-13         Jeopardy!   \n",
      "2410         3214  1998-07-16         Jeopardy!   \n",
      "2644         6125  2011-04-08         Jeopardy!   \n",
      "3097         4487  2004-02-24  Double Jeopardy!   \n",
      "5869         4506  2004-03-22         Jeopardy!   \n",
      "5875         4506  2004-03-22         Jeopardy!   \n",
      "5881         4506  2004-03-22         Jeopardy!   \n",
      "5887         4506  2004-03-22         Jeopardy!   \n",
      "\n",
      "                                     category  value  \\\n",
      "224                   INTERNATIONAL SPORTSMEN   $800   \n",
      "2107                            COUNTRY MUSIC   $800   \n",
      "2264                           CABLE CHANNELS   $200   \n",
      "2410                   PRE-COLUMBIAN CULTURES   $500   \n",
      "2644                      YES, THAT'S \"WHITE\"   $800   \n",
      "3097                                   ROCK-Y  $2000   \n",
      "5869  ROLLING STONE'S 100 GREATEST GUITARISTS   $200   \n",
      "5875  ROLLING STONE'S 100 GREATEST GUITARISTS   $400   \n",
      "5881  ROLLING STONE'S 100 GREATEST GUITARISTS   $600   \n",
      "5887  ROLLING STONE'S 100 GREATEST GUITARISTS   $800   \n",
      "\n",
      "                                                                                                             question  \\\n",
      "224          The Times of London estimates this chess player is taking home $20 mil. a year; that's some check, mate!   \n",
      "2107                   This sound, like that made by plucking a guitar, is the title of a 2009 album by George Strait   \n",
      "2264                      The Dire Straits song \"Money For Nothing\" says, \"You play the guitar on\" this cable channel   \n",
      "2410                           Warriors of this Yucatan civilization battle in the computer-enhanced mural seen here:   \n",
      "2644                                           A chess piece, or a company involved in a friendly takeover of another   \n",
      "3097                       His innovations include multitrack recording, overdubbing & the solid-body electric guitar   \n",
      "5869                                                                  Who was No. 50?  This Who guitarist, that's who   \n",
      "5875    Not surprisingly this legendary guitarist who colored the '60s with songs like \"Purple Haze\" came in at No. 1   \n",
      "5881  It's said of No. 3, \"His string-bending & vibrato made his famous guitar, Lucille, weep like a real-life woman\"   \n",
      "5887                                                         His \"Smooth\" guitar strains earned him a place at No. 15   \n",
      "\n",
      "              answer  value_float  \n",
      "224   Garry Kasparov        800.0  \n",
      "2107           twang        800.0  \n",
      "2264             MTV        200.0  \n",
      "2410          Mayans        500.0  \n",
      "2644  a white knight        800.0  \n",
      "3097        Les Paul       2000.0  \n",
      "5869  Pete Townshend        200.0  \n",
      "5875    Jimi Hendrix        400.0  \n",
      "5881       B.B. King        600.0  \n",
      "5887  Carlos Santana        800.0  \n"
     ]
    }
   ],
   "source": [
    "# Let's Filter the jeopardy DataFrame again now that we have a new column\n",
    "schema = \"|\".join(r'\\b{}'.format(word) for word in question_words)\n",
    "\n",
    "filtered_set = jeopardy[jeopardy['question'].str.contains(schema, case=False, regex=True)]\n",
    "\n",
    "# Let's test that everything still works\n",
    "print(filtered_set.head(10))"
   ]
  },
  {
   "cell_type": "code",
   "execution_count": 14,
   "metadata": {},
   "outputs": [
    {
     "name": "stdout",
     "output_type": "stream",
     "text": [
      "132\n",
      "245\n",
      "30\n",
      "715.1515151515151\n",
      "737.1428571428571\n",
      "810.0\n"
     ]
    }
   ],
   "source": [
    "# Now let's use our filtered_set with float values to see counts of questions with our schema words\n",
    "chess_values = filtered_set.loc[filtered_set[\"question\"].str.contains(\"chess\", case=False), \"value_float\"]\n",
    "guitar_values = filtered_set.loc[filtered_set[\"question\"].str.contains(\"guitar\", case=False), \"value_float\"]\n",
    "yucatan_values = filtered_set.loc[filtered_set[\"question\"].str.contains(\"Yucatan\", case=False), \"value_float\"]\n",
    "\n",
    "print(len(chess_values))\n",
    "print(len(guitar_values))\n",
    "print(len(yucatan_values))\n",
    "\n",
    "print(chess_values.mean())\n",
    "print(guitar_values.mean())\n",
    "print(yucatan_values.mean())"
   ]
  },
  {
   "cell_type": "markdown",
   "metadata": {},
   "source": [
    "5. Write a function that returns the count of unique answers to all of the questions in a dataset. For example, after filtering the entire dataset to only questions containing the word `\"King\"`, we could then find all of the unique answers to those questions. The answer \"Henry VIII\" appeared 55 times and was the most common answer."
   ]
  },
  {
   "cell_type": "code",
   "execution_count": 15,
   "metadata": {},
   "outputs": [
    {
     "name": "stdout",
     "output_type": "stream",
     "text": [
      "['Garry Kasparov' 'a white knight' 'Searching for Bobby Fischer'\n",
      " 'The Seventh Seal' 'Rank and file' '64' 'Bobby Fischer' 'check' 'fork'\n",
      " 'kingside' 'Ruy Lopez' 'the knight' 'the bishop' 'a stalemate' 'pinned'\n",
      " 'the pawns' 'the king & queen' 'a gambit' 'Board games' 'Rook' 'pawn'\n",
      " 'Lewis Carroll' 'checkmate & stalemate' 'an opening' 'castling'\n",
      " 'a pawn shop' 'a computer (a supercomputer accepted)' 'Iran'\n",
      " 'Phantom Of The Opera' 'Harry Potter' 'M*A*S*H' 'Pies' 'N' 'Check'\n",
      " 'checkmate' 'pawns' 'grandmaster' 'white' 'Deep Blue' 'Castling'\n",
      " 'Queen side rook' 'Boris Spassky' 'James Kraft' 'Grandmaster' 'a knight'\n",
      " 'B (for Bishop)' 'Marcus Aurelius' '(Bobby) Fischer' 'a queen'\n",
      " 'rooks, bishops & knights' 'a bishop' 'Ivan The Terrible' 'rook' 'black'\n",
      " 'knight' 'diagonal' '16' 'Q' 'Humphrey Bogart' 'Camel' 'Computer'\n",
      " 'Anatoly Karpov' 'Lauren Bacall' 'the Exchequer' 'Kasparov'\n",
      " 'Fischer & Spassky' 'just plain B' 'Court stenographer/reporter'\n",
      " 'King & pawn' 'a rook' 'Ivan the Terrible' 'things with castles'\n",
      " 'speed chess' 'bishop' 'Carolus Linnaeus' 'Reykjavik' '\"Invisible Hand\"'\n",
      " '4' 'Soviet Union' 'extracurricular' 'move & love' '32' '20' 'queening'\n",
      " 'the Sicilian defense' 'King James I' 'KING' 'RN' \"rook's nooks\"\n",
      " 'Iceland' 'Stale' 'Death' 'bridge' 'Knight' 'Gas Chamber']\n",
      "answer\n",
      "Bobby Fischer     11\n",
      "Garry Kasparov     8\n",
      "check              4\n",
      "Grandmaster        3\n",
      "grandmaster        3\n",
      "Name: count, dtype: int64\n"
     ]
    }
   ],
   "source": [
    "# I can modify what I just did to create a series of answers instead of values\n",
    "chess_answers = filtered_set.loc[filtered_set[\"question\"].str.contains(\"chess\", case=False), \"answer\"]\n",
    "guitar_answers = filtered_set.loc[filtered_set[\"question\"].str.contains(\"guitar\", case=False), \"answer\"]\n",
    "yucatan_answers = filtered_set.loc[filtered_set[\"question\"].str.contains(\"Yucatan\", case=False), \"answer\"]\n",
    "\n",
    "# Let's see the unique answers for chess\n",
    "print(chess_answers.unique())\n",
    "\n",
    "# Now let's see the answer frequency\n",
    "chess_answer_freq = chess_answers.value_counts()\n",
    "print(chess_answer_freq.head(5))"
   ]
  },
  {
   "cell_type": "code",
   "execution_count": 16,
   "metadata": {},
   "outputs": [
    {
     "name": "stdout",
     "output_type": "stream",
     "text": [
      "The most common chess answers are:\n",
      " answer\n",
      "bobby fischer     11\n",
      "garry kasparov     8\n",
      "rook               6\n",
      "grandmaster        6\n",
      "check              5\n",
      "Name: count, dtype: int64\n",
      "The most common guitar answers are:\n",
      " answer\n",
      "jimi hendrix          12\n",
      "segovia                6\n",
      "les paul               6\n",
      "eric clapton           6\n",
      "stevie ray vaughan     5\n",
      "Name: count, dtype: int64\n",
      "The most common Yucatan answers are:\n",
      " answer\n",
      "mayans           3\n",
      "caribbean sea    3\n",
      "chichen itza     3\n",
      "peninsulas       2\n",
      "the mayans       2\n",
      "Name: count, dtype: int64\n"
     ]
    }
   ],
   "source": [
    "# It treats Grandmaster and grandmaster as different answers.\n",
    "# Let's make the answer lists all lowercase and then try again.\n",
    "chess_answers_lower = chess_answers.str.lower()\n",
    "guitar_answers_lower = guitar_answers.str.lower()\n",
    "yucatan_answers_lower = yucatan_answers.str.lower()\n",
    "\n",
    "# Now let's see top five answer frequency for each list\n",
    "chess_answer_freq = chess_answers_lower.value_counts()\n",
    "guitar_answer_freq = guitar_answers_lower.value_counts()\n",
    "yucatan_answer_freq = yucatan_answers_lower.value_counts()\n",
    "print(\"The most common chess answers are:\\n\", chess_answer_freq.head(5))\n",
    "print(\"The most common guitar answers are:\\n\", guitar_answer_freq.head(5))\n",
    "print(\"The most common Yucatan answers are:\\n\", yucatan_answer_freq.head(5))"
   ]
  },
  {
   "cell_type": "markdown",
   "metadata": {},
   "source": [
    "6. Explore from here! This is an incredibly rich dataset, and there are so many interesting things to discover. There are a few columns that we haven't even started looking at yet. Here are some ideas on ways to continue working with this data:\n",
    "\n",
    " * Investigate the ways in which questions change over time by filtering by the date. How many questions from the 90s use the word `\"Computer\"` compared to questions from the 2000s?\n",
    " * Is there a connection between the round and the category? Are you more likely to find certain categories, like `\"Literature\"` in Single Jeopardy or Double Jeopardy?\n",
    " * Build a system to quiz yourself. Grab random questions, and use the <a href=\"https://docs.python.org/3/library/functions.html#input\">input</a> function to get a response from the user. Check to see if that response was right or wrong."
   ]
  },
  {
   "cell_type": "code",
   "execution_count": 17,
   "metadata": {},
   "outputs": [
    {
     "name": "stdout",
     "output_type": "stream",
     "text": [
      "['Jeopardy!' 'Double Jeopardy!' 'Final Jeopardy!' 'Tiebreaker']\n",
      "round\n",
      "Jeopardy!           107384\n",
      "Double Jeopardy!    105912\n",
      "Final Jeopardy!       3631\n",
      "Tiebreaker               3\n",
      "Name: count, dtype: int64\n",
      "category\n",
      "BEFORE & AFTER             547\n",
      "SCIENCE                    519\n",
      "LITERATURE                 496\n",
      "AMERICAN HISTORY           418\n",
      "POTPOURRI                  401\n",
      "WORLD HISTORY              377\n",
      "WORD ORIGINS               371\n",
      "COLLEGES & UNIVERSITIES    351\n",
      "HISTORY                    349\n",
      "SPORTS                     342\n",
      "Name: count, dtype: int64\n",
      "The Top 10 most frequent question categories in the Jeopardy! round are:\n",
      " category\n",
      "STUPID ANSWERS         255\n",
      "POTPOURRI              255\n",
      "SPORTS                 253\n",
      "ANIMALS                233\n",
      "AMERICAN HISTORY       227\n",
      "SCIENCE                217\n",
      "STATE CAPITALS         210\n",
      "TELEVISION             200\n",
      "U.S. CITIES            195\n",
      "BUSINESS & INDUSTRY    185\n",
      "Name: count, dtype: int64\n",
      "The Top 10 most frequent question categories in the Double Jeopardy! round are:\n",
      " category\n",
      "BEFORE & AFTER             450\n",
      "LITERATURE                 381\n",
      "SCIENCE                    296\n",
      "WORLD GEOGRAPHY            254\n",
      "OPERA                      250\n",
      "WORLD HISTORY              237\n",
      "BALLET                     230\n",
      "COLLEGES & UNIVERSITIES    220\n",
      "ISLANDS                    215\n",
      "ART                        215\n",
      "Name: count, dtype: int64\n",
      "The Top 10 most frequent question categories in the Final Jeopardy! round are:\n",
      " category\n",
      "U.S. PRESIDENTS        50\n",
      "WORD ORIGINS           34\n",
      "STATE CAPITALS         31\n",
      "AUTHORS                27\n",
      "WORLD LEADERS          26\n",
      "FAMOUS NAMES           24\n",
      "FAMOUS AMERICANS       24\n",
      "HISTORIC NAMES         24\n",
      "BUSINESS & INDUSTRY    23\n",
      "WORLD GEOGRAPHY        19\n",
      "Name: count, dtype: int64\n",
      "          air_date                 category  \\\n",
      "12305   2007-11-13             CHILD'S PLAY   \n",
      "184710  1997-05-19  THE AMERICAN REVOLUTION   \n",
      "198973  2002-09-20      LITERARY CHARACTERS   \n",
      "\n",
      "                                                                                                            question  \\\n",
      "12305              A Longfellow poem & a Lillian Hellman play about a girls' boarding school share this timely title   \n",
      "184710  On Nov. 15, 1777 Congress adopted this constitution but it wasn't ratified by the states until March 1, 1781   \n",
      "198973                                  Hogwarts headmaster, he's considered by many to be the greatest wizard alive   \n",
      "\n",
      "                               answer  value_float  \n",
      "12305             The Children's Hour          0.0  \n",
      "184710  the Articles of Confederation          0.0  \n",
      "198973           Professor Dumbledore          0.0  \n",
      "The top 10 most frequent Final Jeopardy! answers are:\n",
      " answer\n",
      "Canada                       9\n",
      "Ernest Hemingway             7\n",
      "George Washington            7\n",
      "Abraham Lincoln              7\n",
      "Benjamin Franklin            7\n",
      "John Glenn                   6\n",
      "Franklin Delano Roosevelt    6\n",
      "Albert Einstein              6\n",
      "Liberia                      5\n",
      "Jimmy Carter                 5\n",
      "Name: count, dtype: int64\n",
      "The highest Final Jeopardy! question value was $0, and the lowest was $0\n"
     ]
    }
   ],
   "source": [
    "# Let's see how the round column is divided, and how many questions are from each round\n",
    "rounds = jeopardy[\"round\"].unique()\n",
    "print(rounds)\n",
    "rounds_freq = jeopardy[\"round\"].value_counts()\n",
    "print(rounds_freq)\n",
    "\n",
    "# Let's see what the 10 most frequently occuring question categories are\n",
    "top_categories = jeopardy[\"category\"].value_counts().head(10)\n",
    "print(top_categories)\n",
    "\n",
    "# We can get some answers by round more easily if we break the DataFrame up into a separate dfs for each round\n",
    "jeopardy_round_df = jeopardy[jeopardy[\"round\"] == \"Jeopardy!\"]\n",
    "double_jeopardy_df = jeopardy[jeopardy[\"round\"] == \"Double Jeopardy!\"]\n",
    "final_jeopardy_df = jeopardy[jeopardy[\"round\"] == \"Final Jeopardy!\"]\n",
    "tiebreak_round_df = jeopardy[jeopardy[\"round\"] == \"Tiebreaker\"]\n",
    "\n",
    "# Let's see what the 10 most frequent question categories are by round (excluding tiebreak)\n",
    "jeopardy_top_categories = jeopardy_round_df[\"category\"].value_counts().head(10)\n",
    "dbl_jeopardy_top_categories = double_jeopardy_df[\"category\"].value_counts().head(10)\n",
    "fin_jeopardy_top_categories = final_jeopardy_df[\"category\"].value_counts().head(10)\n",
    "print(\"The Top 10 most frequent question categories in the Jeopardy! round are:\\n\", jeopardy_top_categories)\n",
    "print(\"The Top 10 most frequent question categories in the Double Jeopardy! round are:\\n\", dbl_jeopardy_top_categories)\n",
    "print(\"The Top 10 most frequent question categories in the Final Jeopardy! round are:\\n\", fin_jeopardy_top_categories)\n",
    "\n",
    "# Let's take a look at those 3 instances of tiebreak\n",
    "tiebreak_details = tiebreak_round_df[[\"air_date\", \"category\", \"question\", \"answer\", \"value_float\"]]\n",
    "print(tiebreak_details)\n",
    "\n",
    "# What is the most common Final Jeopardy! answer?\n",
    "fin_jeopardy_top_answers = final_jeopardy_df[\"answer\"].value_counts().head(10)\n",
    "print(\"The top 10 most frequent Final Jeopardy! answers are:\\n\", fin_jeopardy_top_answers)\n",
    "\n",
    "# What are the highest and lowest Final Jeopardy! question values?\n",
    "fin_jeopardy_max = final_jeopardy_df[\"value_float\"].max()\n",
    "fin_jeopardy_min = final_jeopardy_df[\"value_float\"].min()\n",
    "print(\"The highest Final Jeopardy! question value was ${:.0f}, and the lowest was ${:.0f}\".format(fin_jeopardy_max, fin_jeopardy_min))"
   ]
  },
  {
   "cell_type": "markdown",
   "metadata": {},
   "source": [
    "## Solution"
   ]
  },
  {
   "cell_type": "markdown",
   "metadata": {},
   "source": [
    "7. Compare your program to our <a href=\"https://content.codecademy.com/PRO/independent-practice-projects/jeopardy/jeopardy_solution.zip\">sample solution code</a> - remember, that your program might look different from ours (and probably will) and that's okay!"
   ]
  },
  {
   "cell_type": "markdown",
   "metadata": {},
   "source": [
    "8. Great work! Visit <a href=\"https://discuss.codecademy.com/t/this-is-jeopardy-challenge-project-python-pandas/462365\">our forums</a> to compare your project to our sample solution code. You can also learn how to host your own solution on GitHub so you can share it with other learners! Your solution might look different from ours, and that's okay! There are multiple ways to solve these projects, and you'll learn more by seeing others' code."
   ]
  },
  {
   "cell_type": "markdown",
   "metadata": {},
   "source": [
    "### Working Game Model (first completed version)"
   ]
  },
  {
   "cell_type": "code",
   "execution_count": 36,
   "metadata": {},
   "outputs": [
    {
     "name": "stdout",
     "output_type": "stream",
     "text": [
      "Would you like to try to answer a question?  Please type 'yes' or 'no':  yes\n",
      "The Category is:   SAY IT IN...\n",
      "For  $600\n",
      "The question is:   (Sarah of the Clue Crew in Amsterdam)  On the canal cruise, one Dutch word will be \"zwemvest\", which is this item\n",
      "Please type your answer here.  Good luck!  lifevest\n",
      "I'm sorry.  That is not correct.  The correct answer is life vest\n",
      "Your updated balance is:  $-600\n",
      "Would you like another question?  Please type 'yes' or 'no':  no\n"
     ]
    }
   ],
   "source": [
    "# I will try to make an interactive program for asking and answering Jeopardy questions here\n",
    "balance = 0\n",
    "question_counter = 0\n",
    "end_game = False\n",
    "while not end_game:\n",
    "    start = input(\"Would you like to try to answer a question?  Please type 'yes' or 'no':  \")\n",
    "    if start.lower() == \"no\":\n",
    "        break\n",
    "    elif start.lower() == \"yes\":\n",
    "        while question_counter < 7:\n",
    "            question_counter += 1\n",
    "            question = jeopardy_round_df.sample()\n",
    "            print(\"The Category is:  \", question[\"category\"].iloc[0])\n",
    "            print(\"For \", question[\"value\"].iloc[0])\n",
    "            print(\"The question is:  \", question[\"question\"].iloc[0])\n",
    "            response = input(\"Please type your answer here.  Good luck!  \")\n",
    "            if response.lower() in question[\"answer\"].iloc[0].lower() or question[\"answer\"].iloc[0].lower() in response.lower():\n",
    "                balance += question[\"value_float\"].iloc[0]\n",
    "                print(f\"Correct! Here is your updated balance:  ${balance:.0f}\")\n",
    "            else:\n",
    "                balance -= question[\"value_float\"].iloc[0]\n",
    "                print(f\"I'm sorry.  That is not correct.  The correct answer is {question['answer'].iloc[0]}\")\n",
    "                print(f\"Your updated balance is:  ${balance:.0f}\")\n",
    "            proceed = input(\"Would you like another question?  Please type 'yes' or 'no':  \")\n",
    "            if proceed.lower() == \"no\":\n",
    "                end_game = True\n",
    "                break\n",
    "            else:\n",
    "                print(\"Here is your next question!\")\n",
    "                continue\n",
    "        if question_counter == 7:\n",
    "            if balance <= 0:\n",
    "                print(f\"Thank you for playing Jeopardy!  Your game is over with a final balance of ${balance:.0f}\")\n",
    "                print(\"Better luck next time!\")\n",
    "                end_game = True\n",
    "                break\n",
    "            else:\n",
    "                print(\"\\n\\n\\n\")\n",
    "                print(\"CONGRATULATIONS!  YOU HAVE ADVANCED TO DOUBLE JEOPARDY!\")\n",
    "                print(\"\\n\\n\\n\")\n",
    "        while question_counter < 14 and not end_game:\n",
    "            question_counter +=1\n",
    "            question = double_jeopardy_df.sample()\n",
    "            print(\"The Category is:  \", question[\"category\"].iloc[0])\n",
    "            print(\"For \", question[\"value\"].iloc[0])\n",
    "            print(\"The question is:  \", question[\"question\"].iloc[0])\n",
    "            response = input(\"Please type your answer here.  Good luck!  \")\n",
    "            if response.lower() in question[\"answer\"].iloc[0].lower() or question[\"answer\"].iloc[0].lower() in response.lower():\n",
    "                balance += question[\"value_float\"].iloc[0]\n",
    "                print(f\"Correct! Here is your updated balance:  ${balance:.0f}\")\n",
    "            else:\n",
    "                balance -= question[\"value_float\"].iloc[0]\n",
    "                print(f\"I'm sorry.  That is not correct.  The correct answer is {question['answer'].iloc[0]}\")\n",
    "                print(f\"Your updated balance is:  ${balance:.0f}\")\n",
    "            proceed = input(\"Would you like another question?  Please type 'yes' or 'no':  \")\n",
    "            if proceed.lower() == \"no\":\n",
    "                end_game = True\n",
    "                break\n",
    "            else:\n",
    "                print(\"Here is your next question!\")\n",
    "                continue\n",
    "        if question_counter == 14:\n",
    "            if balance <= 0:\n",
    "                print(f\"Thank you for playing Jeopardy!  Your game is over with a final balance of ${balance:.0f}\")\n",
    "                print(\"Better luck next time!\")\n",
    "                end_game = True\n",
    "                break\n",
    "            else:\n",
    "                print(\"\\n\\n\\n\")\n",
    "                print(\"CONGRATULATIONS!  YOU HAVE ADVANCED TO FINAL JEOPARDY!\")\n",
    "                print(\"\\n\\n\\n\")\n",
    "                print(\"This will be the final question.\")\n",
    "                question = final_jeopardy_df.sample()\n",
    "                print(\"The Category is:  \", question[\"category\"].iloc[0])\n",
    "                while True:\n",
    "                    wager = input(f\"Please type your wager for this category.  It cannot exceed your balance of ${balance:.0f}.  Type wager here:  \")\n",
    "                    if not wager.isdigit():\n",
    "                        print(\"Please enter a valid number.\")\n",
    "                        continue\n",
    "                    wager = int(wager)\n",
    "                    if wager > balance:\n",
    "                        print(f\"Your wager must be no more than your balance of ${balance:.0f}\")\n",
    "                        continue\n",
    "                    break\n",
    "                print(f\"Your wager of ${wager} has been accepted.\")\n",
    "                print(\"Here is the Final Jeopardy! question: \", question[\"question\"].iloc[0])\n",
    "                response = input(\"Please type your answer here.  Good luck!  \")\n",
    "                if response.lower() in question[\"answer\"].iloc[0].lower() or question[\"answer\"].iloc[0].lower() in response.lower():\n",
    "                    balance += wager\n",
    "                    print(\"Correct!  You are our Final Jeopardy winner!\")\n",
    "                    print(f\"Congratulations!  Your final winning balance is ${balance:.0f}\")\n",
    "                    print(\"We will see you again tomorrow!\")\n",
    "                    end_game = True\n",
    "                    break\n",
    "                else:\n",
    "                    balance -= wager\n",
    "                    print(f\"I'm sorry.  The correct answer is {question['answer'].iloc[0]}\")\n",
    "                    print(f\"Your final balance is ${balance:.0f}\")\n",
    "                    end_game = True\n",
    "                    break\n",
    "    else:\n",
    "        print(\"You must enter 'yes' or 'no'.  No other input can be accepted\")\n",
    " # This Code works!  Tested multiple times.  Now I will try a more DRY version using a function call.       "
   ]
  },
  {
   "cell_type": "markdown",
   "metadata": {},
   "source": [
    "### A Function that will eliminate some of the need to repeat myself in the next code block"
   ]
  },
  {
   "cell_type": "code",
   "execution_count": 43,
   "metadata": {},
   "outputs": [],
   "source": [
    "# This is just me trying to make a Function to use as a substitute for the code that gets repeated\n",
    "def play_jeopardy(dataframe):\n",
    "    global question_counter, balance\n",
    "    question_counter += 1\n",
    "    question = dataframe.sample()\n",
    "    print(\"The Category is:  \", question[\"category\"].iloc[0])\n",
    "    print(\"For \", question[\"value\"].iloc[0])\n",
    "    print(\"The question is:  \", question[\"question\"].iloc[0])\n",
    "    response = input(\"Please type your answer here.  Good luck!  \")\n",
    "    # We check response in answer OR answer in response.  \n",
    "    # Helps correctly handle things like last name only versus first and last name.  Either will get credit as correct.\n",
    "    if response.lower() in question[\"answer\"].iloc[0].lower() or question[\"answer\"].iloc[0].lower() in response.lower():\n",
    "        balance += question[\"value_float\"].iloc[0]\n",
    "        print(f\"Correct! Here is your updated balance:  ${balance:.0f}\")\n",
    "    else:\n",
    "        balance -= question[\"value_float\"].iloc[0]\n",
    "        print(f\"I'm sorry.  That is not correct.  The correct answer is {question['answer'].iloc[0]}\")\n",
    "        print(f\"Your updated balance is:  ${balance:.0f}\")\n",
    "    proceed = input(\"Would you like another question?  Please type 'yes' or 'no':  \")\n",
    "    return proceed\n"
   ]
  },
  {
   "cell_type": "markdown",
   "metadata": {},
   "source": [
    "### A Working Game Model that is more concise in its code"
   ]
  },
  {
   "cell_type": "code",
   "execution_count": 44,
   "metadata": {},
   "outputs": [
    {
     "name": "stdout",
     "output_type": "stream",
     "text": [
      "Would you like to try to answer a question?  Please type 'yes' or 'no':  yes\n",
      "The Category is:   AIRPORTS\n",
      "For  $1000\n",
      "The question is:   At this European city's airport, you can have a sandwich & of course a coffee at the Cafe Karen Blixen\n",
      "Please type your answer here.  Good luck!  Hamburg\n",
      "I'm sorry.  That is not correct.  The correct answer is Copenhagen\n",
      "Your updated balance is:  $-1000\n",
      "Would you like another question?  Please type 'yes' or 'no':  yes\n",
      "Here is your next question!\n",
      "The Category is:   INTELLIGENT FILMS\n",
      "For  $100\n",
      "The question is:   A 7-year-old chess prodigy is at the center of this 1993 film that mentions an American chess prodigy in its title\n",
      "Please type your answer here.  Good luck!  chasing Bobby Fischer\n",
      "I'm sorry.  That is not correct.  The correct answer is Searching for Bobby Fischer\n",
      "Your updated balance is:  $-1100\n",
      "Would you like another question?  Please type 'yes' or 'no':  yes\n",
      "Here is your next question!\n",
      "The Category is:   WEATHER\n",
      "For  $400\n",
      "The question is:   \"Seasonal\" term that describes the cold & dark weather that nuclear war could bring\n",
      "Please type your answer here.  Good luck!  winter\n",
      "Correct! Here is your updated balance:  $-700\n",
      "Would you like another question?  Please type 'yes' or 'no':  yes\n",
      "Here is your next question!\n",
      "The Category is:   HOLLYWOOD\n",
      "For  $500\n",
      "The question is:   Seen here, this actress was at the peak of her popularity when she was killed in a plane crash in 1942\n",
      "Please type your answer here.  Good luck!  Carole Lombard\n",
      "Correct! Here is your updated balance:  $-200\n",
      "Would you like another question?  Please type 'yes' or 'no':  no\n"
     ]
    }
   ],
   "source": [
    "# Now I will try to integrate my function for a more DRY code\n",
    "# We need a couple starting values initiated\n",
    "balance = 0\n",
    "question_counter = 0\n",
    "\n",
    "# This is a critical piece. Need a way to end the outer loop from inside the inner loop.  End_game is a Flag variable.\n",
    "end_game = False\n",
    "while not end_game:\n",
    "    start = input(\"Would you like to try to answer a question?  Please type 'yes' or 'no':  \")\n",
    "    if start.lower() == \"no\":\n",
    "        break\n",
    "    elif start.lower() == \"yes\":\n",
    "          \n",
    "        while question_counter < 7:\n",
    "            proceed = play_jeopardy(jeopardy_round_df)\n",
    "            if proceed.lower() == \"no\":\n",
    "                # End_game = True prepares to end the outer loop\n",
    "                end_game = True\n",
    "                # Break ends the inner loop. It now looks at the outer loop and sees that end_game is now True.\n",
    "                break\n",
    "            else:\n",
    "                print(\"Here is your next question!\")\n",
    "                continue\n",
    "        if question_counter == 7:\n",
    "            if balance <= 0:\n",
    "                print(f\"Thank you for playing Jeopardy!  Your game is over with a final balance of ${balance:.0f}\")\n",
    "                print(\"Better luck next time!\")\n",
    "                end_game = True\n",
    "                break\n",
    "            else:\n",
    "                print(\"\\n\\n\\n\")\n",
    "                print(\"CONGRATULATIONS!  YOU HAVE ADVANCED TO DOUBLE JEOPARDY!\")\n",
    "                print(\"\\n\\n\\n\")\n",
    "        \n",
    "        while question_counter < 14 and not end_game:\n",
    "            proceed = play_jeopardy(double_jeopardy_df)\n",
    "            if proceed.lower() == \"no\":\n",
    "                end_game = True\n",
    "                break\n",
    "            else:\n",
    "                print(\"Here is your next question!\")\n",
    "                continue\n",
    "        if question_counter == 14:\n",
    "            if balance <= 0:\n",
    "                print(f\"Thank you for playing Jeopardy!  Your game is over with a final balance of ${balance:.0f}\")\n",
    "                print(\"Better luck next time!\")\n",
    "                end_game = True\n",
    "                break\n",
    "            else:\n",
    "                print(\"\\n\\n\\n\")\n",
    "                print(\"CONGRATULATIONS!  YOU HAVE ADVANCED TO FINAL JEOPARDY!\")\n",
    "                print(\"\\n\\n\\n\")\n",
    "                print(\"This will be the final question.\")\n",
    "                question = final_jeopardy_df.sample()\n",
    "                print(\"The Category is:  \", question[\"category\"].iloc[0])\n",
    "                \n",
    "                # The while loop below collects a valid wager from the player\n",
    "                while True:\n",
    "                    wager = input(f\"Please type your wager for this category.  It cannot exceed your balance of ${balance:.0f}.  Type wager here:  \")\n",
    "                    if not wager.isdigit():\n",
    "                        print(\"Please enter a valid number.\")\n",
    "                        continue\n",
    "                    wager = int(wager)\n",
    "                    if wager > balance:\n",
    "                        print(f\"Your wager must be no more than your balance of ${balance:.0f}\")\n",
    "                        continue\n",
    "                    break\n",
    "                print(f\"Your wager of ${wager} has been accepted.\")\n",
    "                \n",
    "                print(\"Here is the Final Jeopardy! question: \", question[\"question\"].iloc[0])\n",
    "                response = input(\"Please type your answer here.  Good luck!  \")\n",
    "                if response.lower() in question[\"answer\"].iloc[0].lower() or question[\"answer\"].iloc[0].lower() in response.lower():\n",
    "                    balance += wager\n",
    "                    print(\"Correct!  You are our Final Jeopardy winner!\")\n",
    "                    print(f\"Congratulations!  Your final winning balance is ${balance:.0f}\")\n",
    "                    print(\"We will see you again tomorrow!\")\n",
    "                    end_game = True\n",
    "                    break\n",
    "                else:\n",
    "                    balance -= wager\n",
    "                    print(f\"I'm sorry.  The correct answer is {question['answer'].iloc[0]}\")\n",
    "                    print(f\"Your final balance is ${balance:.0f}\")\n",
    "                    end_game = True\n",
    "                    break\n",
    "    else:\n",
    "        print(\"You must enter 'yes' or 'no'.  No other input can be accepted\")\n",
    "  "
   ]
  },
  {
   "cell_type": "code",
   "execution_count": null,
   "metadata": {},
   "outputs": [],
   "source": []
  }
 ],
 "metadata": {
  "kernelspec": {
   "display_name": "Python 3 (ipykernel)",
   "language": "python",
   "name": "python3"
  },
  "language_info": {
   "codemirror_mode": {
    "name": "ipython",
    "version": 3
   },
   "file_extension": ".py",
   "mimetype": "text/x-python",
   "name": "python",
   "nbconvert_exporter": "python",
   "pygments_lexer": "ipython3",
   "version": "3.11.4"
  }
 },
 "nbformat": 4,
 "nbformat_minor": 2
}
